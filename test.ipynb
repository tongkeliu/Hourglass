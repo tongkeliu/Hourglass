{
 "cells": [
  {
   "cell_type": "code",
   "execution_count": 2,
   "metadata": {},
   "outputs": [
    {
     "name": "stdout",
     "output_type": "stream",
     "text": [
      "True\n"
     ]
    }
   ],
   "source": [
    "import torch\n",
    "print(torch.cuda.is_available())"
   ]
  },
  {
   "cell_type": "code",
   "execution_count": 3,
   "metadata": {},
   "outputs": [
    {
     "name": "stdout",
     "output_type": "stream",
     "text": [
      "50000\n",
      "Allocated: 0.00 MB\n"
     ]
    }
   ],
   "source": [
    "from torchvision import datasets,transforms\n",
    "from torch.utils.data import Subset\n",
    "import numpy as np\n",
    "import torch\n",
    "\n",
    "idx = np.array([1,2,3,4,5])\n",
    "\n",
    "train_data = datasets.CIFAR10('./data/cifar',True,transform=transforms.ToTensor())\n",
    "print(len(train_data))\n",
    "train_data = train_data.to(\"cuda:0\")\n",
    "print(f\"Allocated: {torch.cuda.memory_allocated() / 1024**2:.2f} MB\")"
   ]
  },
  {
   "cell_type": "code",
   "execution_count": 3,
   "metadata": {},
   "outputs": [
    {
     "name": "stdout",
     "output_type": "stream",
     "text": [
      "[2 2 2 1 1 0 2 1 0 0 1 2 1 2 1 0 2 0 2 1 0 0 2 2 1 1 2 2 1 0 0 1 1 1 2 1 1\n",
      " 1 1 2 1 1 0 1 1 2 0 1 1 1 1 1 1 1 2 0 1 1 1 2 2 0 2 0 2 1 1 2 1 0 0 2 0 2\n",
      " 1 1 1 1 1 0 2 1 1 2 0 0 1 1 2 0 1 1 2 2 0 1 2 2 0 0 0 1 2 1 1 2 2 1 0 1 1\n",
      " 1 0 0 2 2 0 1 0 2 0 2 2 2 0 2 2 1 2 0 0 1 1 0 1 1 2 1 0 1 2 2 1 0 1 1 2 0\n",
      " 1 2 2 2 2 1 1 0 1 1 0 1 0 1 0 2 1 1 0 2 1 1 2 1 1 2 1 2 2 2 2 1 0 0 2 1 1\n",
      " 0 0 0 0 0 1 1 1 2 0 1 2 2 1 0 1 1 0 2 1 1 0 0 1 0 1 1 1 0 0 0 1 0 2 0 1 0\n",
      " 2 1 0 2 1 0 0 1 2 1 0 1 0 1 1 0 1 0 2 2 0 1 1 1 1 1 0 2 2 2 2 2 1 0 1 1 0\n",
      " 2 0 1 1 1 2 0 1 2 1 1 2 0 1 0 2 1 2 1 1 1 0 2 1 1 0 0 2 0 1 2 0 0 2 2 2 2\n",
      " 1 1 1 2]\n"
     ]
    }
   ],
   "source": [
    "import numpy as np\n",
    "from sklearn.cluster import KMeans\n",
    "\n",
    "X = np.random.rand(300, 2)\n",
    "\n",
    "kmeans = KMeans(n_clusters=3, random_state=42)\n",
    "kmeans.fit(X)\n",
    "\n",
    "labels = kmeans.predict(X)\n",
    "print(labels)\n"
   ]
  },
  {
   "cell_type": "code",
   "execution_count": 5,
   "metadata": {},
   "outputs": [
    {
     "name": "stderr",
     "output_type": "stream",
     "text": [
      "INFO: a INFO log\n",
      "INFO: a INFO log\n",
      "WARNING: a warn log\n",
      "WARNING: a warn log\n",
      "ERROR: a ERROR log\n",
      "ERROR: a ERROR log\n"
     ]
    }
   ],
   "source": [
    "from Hourglass.utils import get_logger\n",
    "\n",
    "logger = get_logger()\n",
    "logger.info(\"a INFO log\")\n",
    "logger.warning(\"a warn log\")\n",
    "logger.error(\"a ERROR log\")"
   ]
  },
  {
   "cell_type": "code",
   "execution_count": 4,
   "metadata": {},
   "outputs": [
    {
     "name": "stdout",
     "output_type": "stream",
     "text": [
      "stop iteration\n",
      "-1 -1\n"
     ]
    }
   ],
   "source": [
    "def test_yield():\n",
    "    a = [-1,-1]\n",
    "    for i in a:\n",
    "        yield i\n",
    "\n",
    "def test_yield2():\n",
    "    b = [9,8,7,6,5,6,7,8,9]\n",
    "    for i in b:\n",
    "        yield i\n",
    "\n",
    "# yield_list = [test_yield(), test_yield2()]\n",
    "# for a,b in zip(*yield_list):\n",
    "#     print(\"a:{} b:{}\".format(a, b))\n",
    "\n",
    "try:\n",
    "    aaa = test_yield()\n",
    "    a = next(aaa)\n",
    "    b = next(aaa)\n",
    "    c = next(aaa)\n",
    "except StopIteration as e:\n",
    "    print(\"stop iteration\")\n",
    "print(a,b)"
   ]
  },
  {
   "cell_type": "code",
   "execution_count": 26,
   "metadata": {},
   "outputs": [
    {
     "name": "stdout",
     "output_type": "stream",
     "text": [
      "0 1 2 3 4 5 6 7 8 9 0 1 2 3 4 5 6 7 8 9 0 1 2 3 4 5 6 7 8 9 0 1 2 3 4 5 6 7 8 9 0 1 2 3 4 5 6 7 8 9 0 1 2 3 4 5 6 7 8 9 0 1 2 3 4 5 6 7 8 9 0 1 2 3 4 5 6 7 8 9 0 1 2 3 4 5 6 7 8 9 0 1 2 3 4 5 6 7 8 9 0 1 2 3 4 5 6 7 8 9 0 1 2 3 4 5 6 7 8 9 0 1 2 3 4 5 6 7 8 9 0 1 2 3 4 5 6 7 8 9 0 1 2 3 4 5 6 7 8 9 0 1 2 3 4 5 6 7 8 9 0 1 2 3 4 5 6 7 8 9 0 1 2 3 4 5 6 7 8 9 0 1 2 3 4 5 6 7 8 9 0 1 2 3 4 5 6 7 8 9 0 1 2 3 4 5 6 7 8 9 0 1 2 3 4 5 7 8 9 0 1 2 3 4 5 7 8 9 0 1 2 3 4 5 7 8 9 0 1 2 3 4 5 7 8 9 0 1 2 3 4 5 8 0 1 2 3 4 5 8 0 1 2 3 4 5 8 0 1 4 8 0 1 4 0 1 4 0 1 4 0 1 4 0 1 4 0 1 4 0 1 4 0 1 4 0 4 0 0 0 "
     ]
    }
   ],
   "source": [
    "import numpy as np\n",
    "from sklearn.cluster import KMeans\n",
    "np.random.seed(42)\n",
    "\n",
    "X = np.random.rand(300, 2)\n",
    "\n",
    "n_clusters = 10\n",
    "strategy = 'DFF'\n",
    "kmeans = KMeans(n_clusters=n_clusters, random_state=42)\n",
    "kmeans.fit(X)\n",
    "pred = kmeans.predict(X)\n",
    "\n",
    "backward_order = []\n",
    "bucket = dict()\n",
    "for pseudo_label in range(n_clusters):\n",
    "    bucket[pseudo_label] = [idx for idx in range(len(pred)) if pred[idx] == pseudo_label]\n",
    "    backward_order.extend(bucket[pseudo_label])\n",
    "\n",
    "if strategy == 'FCFS':\n",
    "    backward_order = [i for i in range(len(pred))]\n",
    "elif strategy == 'SFF':\n",
    "    pass\n",
    "else:\n",
    "    backward_order = []\n",
    "    while True:\n",
    "        for pseudo_label in range(n_clusters):\n",
    "            if bucket[pseudo_label]:\n",
    "                backward_order.append(bucket[pseudo_label].pop(0))\n",
    "        if len(backward_order) == len(pred):\n",
    "            break\n",
    "\n",
    "for user_id in backward_order:\n",
    "    print(pred[user_id], end=' ')\n",
    "# print(pred)\n",
    "# print(backward_order)"
   ]
  }
 ],
 "metadata": {
  "kernelspec": {
   "display_name": "Python 3.10.16 ('openrca')",
   "language": "python",
   "name": "python3"
  },
  "language_info": {
   "codemirror_mode": {
    "name": "ipython",
    "version": 3
   },
   "file_extension": ".py",
   "mimetype": "text/x-python",
   "name": "python",
   "nbconvert_exporter": "python",
   "pygments_lexer": "ipython3",
   "version": "3.10.16"
  },
  "orig_nbformat": 4,
  "vscode": {
   "interpreter": {
    "hash": "fea7524af424bddf1ba118620d08d31250f60457cc89bb455dafd685cdc184ac"
   }
  }
 },
 "nbformat": 4,
 "nbformat_minor": 2
}
